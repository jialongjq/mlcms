{
 "cells": [
  {
   "cell_type": "code",
   "execution_count": 2,
   "metadata": {},
   "outputs": [],
   "source": [
    "from utils import *"
   ]
  },
  {
   "cell_type": "code",
   "execution_count": 3,
   "metadata": {},
   "outputs": [
    {
     "data": {
      "application/vnd.jupyter.widget-view+json": {
       "model_id": "e4378c36312d4006bb6fcd5347103a4a",
       "version_major": 2,
       "version_minor": 0
      },
      "text/plain": [
       "interactive(children=(FloatSlider(value=0.0, description='alpha', max=5.0, min=-5.0, step=0.05), Output()), _d…"
      ]
     },
     "metadata": {},
     "output_type": "display_data"
    },
    {
     "data": {
      "text/plain": [
       "<function __main__.draw(alpha)>"
      ]
     },
     "execution_count": 3,
     "metadata": {},
     "output_type": "execute_result"
    }
   ],
   "source": [
    "w = 5\n",
    "y0 = np.array([0.00, 0.00])\n",
    "time = np.linspace(0, 50, 500)\n",
    "\n",
    "def draw(alpha):\n",
    "    A = np.array([\n",
    "        [np.cos(alpha), np.sin(2*alpha)],\n",
    "        [-np.sin(3*alpha), np.cos(4*alpha)]\n",
    "    ])\n",
    "    eigenvalues, eigenvectors = np.linalg.eig(A)\n",
    "    title=r'$\\alpha={0:.2f}$, $\\lambda_1={1:.2f}$, $\\lambda_2={2:.2f}$'.format(alpha, eigenvalues[0], eigenvalues[1])\n",
    "    phase_portrait(w, A, y0, time, title)\n",
    "    \n",
    "interact(draw, alpha=widgets.FloatSlider(min=-5, max=5, step=0.05, value=0))"
   ]
  },
  {
   "cell_type": "code",
   "execution_count": null,
   "metadata": {},
   "outputs": [],
   "source": []
  }
 ],
 "metadata": {
  "kernelspec": {
   "display_name": "Python 3 (ipykernel)",
   "language": "python",
   "name": "python3"
  },
  "language_info": {
   "codemirror_mode": {
    "name": "ipython",
    "version": 3
   },
   "file_extension": ".py",
   "mimetype": "text/x-python",
   "name": "python",
   "nbconvert_exporter": "python",
   "pygments_lexer": "ipython3",
   "version": "3.8.15"
  },
  "vscode": {
   "interpreter": {
    "hash": "d12a6980af1de3549060b7b451d48d445ec6b4aaeaf0b0e12a509d2182e95745"
   }
  }
 },
 "nbformat": 4,
 "nbformat_minor": 4
}
